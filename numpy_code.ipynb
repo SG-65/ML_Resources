{
 "cells": [
  {
   "cell_type": "code",
   "execution_count": 14,
   "id": "d905b008",
   "metadata": {},
   "outputs": [
    {
     "name": "stdout",
     "output_type": "stream",
     "text": [
      "[1 2 3 4 5]\n"
     ]
    }
   ],
   "source": [
    "import numpy as np # type: ignore\n",
    "#1D array\n",
    "a = np.array([1,2,3,4,5])\n",
    "print(a)"
   ]
  },
  {
   "cell_type": "code",
   "execution_count": 15,
   "id": "e3352af4",
   "metadata": {},
   "outputs": [
    {
     "name": "stdout",
     "output_type": "stream",
     "text": [
      "[[1 2 3]\n",
      " [4 5 6]]\n"
     ]
    }
   ],
   "source": [
    "#2D array\n",
    "b = np.array([[1,2,3],[4,5,6]])\n",
    "print(b)"
   ]
  },
  {
   "cell_type": "code",
   "execution_count": 16,
   "id": "d35153e8",
   "metadata": {},
   "outputs": [
    {
     "name": "stdout",
     "output_type": "stream",
     "text": [
      "[[[ 1  2  3]\n",
      "  [ 4  5  6]]\n",
      "\n",
      " [[ 7  8  9]\n",
      "  [10 11 12]]]\n"
     ]
    }
   ],
   "source": [
    "#3D array\n",
    "c= np.array([[[1,2,3],[4,5,6,]],[[7,8,9],[10,11,12]]])\n",
    "print(c)"
   ]
  },
  {
   "cell_type": "code",
   "execution_count": 17,
   "id": "fdb5ed41",
   "metadata": {},
   "outputs": [
    {
     "name": "stdout",
     "output_type": "stream",
     "text": [
      "[1. 2. 3. 4.]\n",
      "[[1.+0.j 2.+0.j 3.+0.j]\n",
      " [4.+0.j 5.+0.j 6.+0.j]]\n"
     ]
    }
   ],
   "source": [
    "#Data Type \n",
    "p=np.array([1,2,3,4], dtype=float)\n",
    "q=np.array([[1,2,3],[4,5,6]], dtype=complex)\n",
    "print(p)\n",
    "print(q)"
   ]
  },
  {
   "cell_type": "code",
   "execution_count": 18,
   "id": "dc7dfee4",
   "metadata": {},
   "outputs": [
    {
     "name": "stdout",
     "output_type": "stream",
     "text": [
      "[ 1  4  7 10]\n",
      "[1 3 5 7 9]\n"
     ]
    }
   ],
   "source": [
    "#arange()\n",
    "p=np.arange(1,11,3)\n",
    "q=np.arange(1,11,2)\n",
    "print(p)\n",
    "print(q)"
   ]
  },
  {
   "cell_type": "code",
   "execution_count": 19,
   "id": "0093e722",
   "metadata": {},
   "outputs": [
    {
     "name": "stdout",
     "output_type": "stream",
     "text": [
      "[[ 1  2]\n",
      " [ 3  4]\n",
      " [ 5  6]\n",
      " [ 7  8]\n",
      " [ 9 10]]\n",
      "\n",
      "[[[[ 0  1]\n",
      "   [ 2  3]]\n",
      "\n",
      "  [[ 4  5]\n",
      "   [ 6  7]]]\n",
      "\n",
      "\n",
      " [[[ 8  9]\n",
      "   [10 11]]\n",
      "\n",
      "  [[12 13]\n",
      "   [14 15]]]]\n"
     ]
    }
   ],
   "source": [
    "#reshape()\n",
    "p=np.arange(1,11).reshape(5,2)\n",
    "q=np.arange(16).reshape(2,2,2,2)\n",
    "print(p)\n",
    "print()\n",
    "print(q)"
   ]
  },
  {
   "cell_type": "code",
   "execution_count": 20,
   "id": "49b86b8e",
   "metadata": {},
   "outputs": [
    {
     "name": "stdout",
     "output_type": "stream",
     "text": [
      "[[1. 1. 1. 1.]\n",
      " [1. 1. 1. 1.]\n",
      " [1. 1. 1. 1.]]\n",
      "\n",
      "[[0. 0. 0. 0. 0.]\n",
      " [0. 0. 0. 0. 0.]]\n"
     ]
    }
   ],
   "source": [
    "#np.ones() np.zeros()\n",
    "p=np.ones((3,4))\n",
    "q=np.zeros((2,5))\n",
    "print(p)\n",
    "print()\n",
    "print(q)"
   ]
  },
  {
   "cell_type": "code",
   "execution_count": 21,
   "id": "4f88eb7e",
   "metadata": {},
   "outputs": [
    {
     "name": "stdout",
     "output_type": "stream",
     "text": [
      "[[0.88740615 0.00894901 0.99172181 0.72308962 0.95720887]\n",
      " [0.40617929 0.82819485 0.25233124 0.43880724 0.20151893]\n",
      " [0.42364265 0.50390529 0.11497159 0.61863106 0.41156121]\n",
      " [0.06185104 0.50082079 0.95044826 0.99051681 0.76405767]]\n"
     ]
    }
   ],
   "source": [
    "#np.random()\n",
    "import numpy as np\n",
    "p= np.random.random((4,5))\n",
    "print(p)"
   ]
  },
  {
   "cell_type": "code",
   "execution_count": 22,
   "id": "42e8f375",
   "metadata": {},
   "outputs": [
    {
     "data": {
      "text/plain": [
       "array([[1., 0., 0.],\n",
       "       [0., 1., 0.],\n",
       "       [0., 0., 1.]])"
      ]
     },
     "execution_count": 22,
     "metadata": {},
     "output_type": "execute_result"
    }
   ],
   "source": [
    "#identity matrix\n",
    "np.identity(3)"
   ]
  },
  {
   "cell_type": "code",
   "execution_count": 23,
   "id": "c8de8583",
   "metadata": {},
   "outputs": [
    {
     "name": "stdout",
     "output_type": "stream",
     "text": [
      "[0. 0. 0. 0. 1. 0. 0. 0. 0. 0.]\n"
     ]
    }
   ],
   "source": [
    "a=np.zeros((10))\n",
    "a[4]=1\n",
    "print(a)"
   ]
  },
  {
   "cell_type": "code",
   "execution_count": 24,
   "id": "c7a26d3f",
   "metadata": {},
   "outputs": [
    {
     "ename": "ValueError",
     "evalue": "invalid literal for int() with base 10: ''",
     "output_type": "error",
     "traceback": [
      "\u001b[1;31m---------------------------------------------------------------------------\u001b[0m",
      "\u001b[1;31mValueError\u001b[0m                                Traceback (most recent call last)",
      "Cell \u001b[1;32mIn[24], line 1\u001b[0m\n\u001b[1;32m----> 1\u001b[0m a\u001b[38;5;241m=\u001b[39m\u001b[38;5;28mint\u001b[39m(\u001b[38;5;28minput\u001b[39m(\u001b[38;5;124m\"\u001b[39m\u001b[38;5;124mno. of rows: \u001b[39m\u001b[38;5;124m\"\u001b[39m))\n\u001b[0;32m      2\u001b[0m b\u001b[38;5;241m=\u001b[39m\u001b[38;5;28mint\u001b[39m(\u001b[38;5;28minput\u001b[39m(\u001b[38;5;124m\"\u001b[39m\u001b[38;5;124mno. of columns: \u001b[39m\u001b[38;5;124m\"\u001b[39m))\n\u001b[0;32m      3\u001b[0m res\u001b[38;5;241m=\u001b[39mnp\u001b[38;5;241m.\u001b[39mrandom\u001b[38;5;241m.\u001b[39mrandom((a,b))\n",
      "\u001b[1;31mValueError\u001b[0m: invalid literal for int() with base 10: ''"
     ]
    }
   ],
   "source": [
    "a=int(input(\"no. of rows: \"))\n",
    "b=int(input(\"no. of columns: \"))\n",
    "res=np.random.random((a,b))\n",
    "print(res)\n",
    "np.average(res)\n"
   ]
  },
  {
   "cell_type": "code",
   "execution_count": 19,
   "id": "6074d6ef",
   "metadata": {},
   "outputs": [
    {
     "name": "stdout",
     "output_type": "stream",
     "text": [
      "[[1 1 1 1]\n",
      " [1 0 0 1]\n",
      " [1 0 0 1]\n",
      " [1 1 1 1]]\n"
     ]
    }
   ],
   "source": [
    "a=int(input(\"no. of rows: \"))\n",
    "b=int(input(\"no. of columns: \"))\n",
    "z=np.zeros((a,b), dtype=int)\n",
    "z[0,:]=1 # top row\n",
    "z[-1,:]=1 # bottom row\n",
    "z[:,0]=1 # left column\n",
    "z[:,-1]=1 # right column\n",
    "print(z)"
   ]
  },
  {
   "cell_type": "code",
   "execution_count": 25,
   "id": "f68b56a4",
   "metadata": {},
   "outputs": [
    {
     "name": "stdout",
     "output_type": "stream",
     "text": [
      "[0.         0.11111111 0.22222222 0.33333333 0.44444444 0.55555556\n",
      " 0.66666667 0.77777778 0.88888889 1.        ]\n",
      "\n",
      "[0.11111111 0.22222222 0.33333333 0.44444444 0.55555556 0.66666667\n",
      " 0.77777778 0.88888889]\n"
     ]
    }
   ],
   "source": [
    "# np.linespace()\n",
    "p=np.linspace(0,1,10)\n",
    "print(p)\n",
    "print()\n",
    "q=np.linspace(0,1,10)[1:-1] #excluding 0 and 1\n",
    "print(q)"
   ]
  },
  {
   "cell_type": "code",
   "execution_count": 26,
   "id": "6bf2c029",
   "metadata": {},
   "outputs": [
    {
     "name": "stdout",
     "output_type": "stream",
     "text": [
      "[[1 0 0 0]\n",
      " [0 1 0 0]\n",
      " [0 0 1 0]]\n"
     ]
    }
   ],
   "source": [
    "# identity matrix of(3,4)\n",
    "a=int(input(\"no. of rows: \"))\n",
    "b=int(input(\"no. of columns: \"))\n",
    "res= np.zeros((a,b), dtype=int)\n",
    "\n",
    "for i in range(min(a,b)):\n",
    "    res[i,i] = 1\n",
    "print(res)    "
   ]
  },
  {
   "cell_type": "code",
   "execution_count": 2,
   "id": "e926258a",
   "metadata": {},
   "outputs": [
    {
     "name": "stdout",
     "output_type": "stream",
     "text": [
      "[[[0 1]\n",
      "  [2 3]]\n",
      "\n",
      " [[4 5]\n",
      "  [6 7]]]\n"
     ]
    },
    {
     "data": {
      "text/plain": [
       "4"
      ]
     },
     "execution_count": 2,
     "metadata": {},
     "output_type": "execute_result"
    }
   ],
   "source": [
    "#itemsize\n",
    "import numpy as np \n",
    "a=np.arange(8).reshape(2,2,2)\n",
    "print(a)\n",
    "a.itemsize"
   ]
  },
  {
   "cell_type": "code",
   "execution_count": 13,
   "id": "2d2de995",
   "metadata": {},
   "outputs": [
    {
     "name": "stdout",
     "output_type": "stream",
     "text": [
      "[[ 0.  1.  2.]\n",
      " [ 3.  4.  5.]\n",
      " [ 6.  7.  8.]\n",
      " [ 9. 10. 11.]]\n",
      "float64\n"
     ]
    }
   ],
   "source": [
    "a=np.arange(12,dtype=float).reshape(4,3)\n",
    "print(a)\n",
    "print(a.dtype)"
   ]
  },
  {
   "cell_type": "code",
   "execution_count": 26,
   "id": "0b3e46e4",
   "metadata": {},
   "outputs": [
    {
     "name": "stdout",
     "output_type": "stream",
     "text": [
      "[[0 1 2]\n",
      " [3 4 5]\n",
      " [6 7 8]]\n",
      "\n",
      "[[ 9 10 11]\n",
      " [12 13 14]\n",
      " [15 16 17]]\n"
     ]
    }
   ],
   "source": [
    "a1=np.arange(9).reshape(3,3)\n",
    "a2=np.arange(9,18).reshape(3,3)\n",
    "print(a1)\n",
    "print()\n",
    "print(a2)"
   ]
  },
  {
   "cell_type": "code",
   "execution_count": 28,
   "id": "c148f741",
   "metadata": {},
   "outputs": [
    {
     "name": "stdout",
     "output_type": "stream",
     "text": [
      "[[1 2 3]\n",
      " [4 5 6]\n",
      " [7 8 9]]\n",
      "\n",
      "[[27 30 33]\n",
      " [36 39 42]\n",
      " [45 48 51]]\n",
      "\n",
      "[[ 729 1000 1331]\n",
      " [1728 2197 2744]\n",
      " [3375 4096 4913]]\n"
     ]
    }
   ],
   "source": [
    "#arithmatic oparation\n",
    "print((1+a1))\n",
    "print()\n",
    "print((a2*3))\n",
    "print()\n",
    "print((a2**3))\n"
   ]
  },
  {
   "cell_type": "code",
   "execution_count": 29,
   "id": "fa6b6083",
   "metadata": {},
   "outputs": [
    {
     "name": "stdout",
     "output_type": "stream",
     "text": [
      "[[False False False]\n",
      " [False False False]\n",
      " [ True  True  True]]\n",
      "\n",
      "[[False False False]\n",
      " [False False False]\n",
      " [False False False]]\n"
     ]
    }
   ],
   "source": [
    "#relational operation\n",
    "print((a1>5))\n",
    "print()\n",
    "print((a2>35))"
   ]
  },
  {
   "cell_type": "code",
   "execution_count": 32,
   "id": "bab0a513",
   "metadata": {},
   "outputs": [
    {
     "name": "stdout",
     "output_type": "stream",
     "text": [
      "[[ 9 11 13]\n",
      " [15 17 19]\n",
      " [21 23 25]]\n",
      "\n",
      "[[  0  10  22]\n",
      " [ 36  52  70]\n",
      " [ 90 112 136]]\n",
      "\n",
      "[[          1          10         121]\n",
      " [       1728       28561      537824]\n",
      " [   11390625   268435456 -1614177151]]\n"
     ]
    }
   ],
   "source": [
    "#vector operation\n",
    "print(a1+a2)\n",
    "print()\n",
    "print(a1*a2)\n",
    "print()\n",
    "print(a2**a1)"
   ]
  },
  {
   "cell_type": "code",
   "execution_count": 57,
   "id": "0dcb58bf",
   "metadata": {},
   "outputs": [
    {
     "name": "stdout",
     "output_type": "stream",
     "text": [
      "[[0.54126828 0.81817109 0.65777421]\n",
      " [0.92692709 0.35381449 0.8602116 ]\n",
      " [0.49170977 0.45011936 0.33757426]]\n"
     ]
    }
   ],
   "source": [
    "a=np.random.random((3,3))\n",
    "print(a)\n"
   ]
  },
  {
   "cell_type": "code",
   "execution_count": 58,
   "id": "8dc78e1e",
   "metadata": {},
   "outputs": [
    {
     "name": "stdout",
     "output_type": "stream",
     "text": [
      "[[54. 82. 66.]\n",
      " [93. 35. 86.]\n",
      " [49. 45. 34.]]\n"
     ]
    }
   ],
   "source": [
    "a=np.round(a*100)\n",
    "print(a)"
   ]
  },
  {
   "cell_type": "code",
   "execution_count": 67,
   "id": "9c84b6a0",
   "metadata": {},
   "outputs": [
    {
     "name": "stdout",
     "output_type": "stream",
     "text": [
      "93.0\n",
      "34.0\n",
      "[196. 162. 186.]\n",
      "[246078. 129150. 192984.]\n"
     ]
    }
   ],
   "source": [
    "#sum/product/max/min\n",
    "print(np.max(a))\n",
    "print(np.min(a))\n",
    "print(np.sum(a,axis=0))\n",
    "print(np.prod(a,axis=0))\n"
   ]
  },
  {
   "cell_type": "code",
   "execution_count": 71,
   "id": "71fdd8ce",
   "metadata": {},
   "outputs": [
    {
     "name": "stdout",
     "output_type": "stream",
     "text": [
      "[65.33333333 54.         62.        ]\n",
      "54.0\n",
      "[19.66949132 20.2155056  21.41650454]\n",
      "440.69135802469134\n"
     ]
    }
   ],
   "source": [
    "#mean/median/std/var\n",
    "print(np.mean(a,axis=0))\n",
    "print(np.median(a))\n",
    "print(np.std(a,axis=0))\n",
    "print(np.var(a))"
   ]
  },
  {
   "cell_type": "code",
   "execution_count": 72,
   "id": "aa6b1155",
   "metadata": {},
   "outputs": [
    {
     "name": "stdout",
     "output_type": "stream",
     "text": [
      "[[0 1 2 3]\n",
      " [4 5 6 7]]\n",
      "\n",
      "[[ 8  9]\n",
      " [10 11]\n",
      " [12 13]\n",
      " [14 15]]\n",
      "\n",
      "[[ 76  82]\n",
      " [252 274]]\n"
     ]
    }
   ],
   "source": [
    "#dot product\n",
    "a1=np.arange(8).reshape(2,4)\n",
    "a2=np.arange(8,16).reshape(4,2)\n",
    "print(a1)\n",
    "print()\n",
    "print(a2)\n",
    "print()\n",
    "print(np.dot(a1,a2))"
   ]
  },
  {
   "cell_type": "code",
   "execution_count": 78,
   "id": "b8d6cff9",
   "metadata": {},
   "outputs": [
    {
     "name": "stdout",
     "output_type": "stream",
     "text": [
      "[[0.03571276 0.5679562  0.59880712]\n",
      " [0.52384648 0.82214024 0.51815735]\n",
      " [0.66275665 0.9680164  0.18978499]]\n",
      "\n",
      "[[-3.33224715 -0.56571097 -0.51281573]\n",
      " [-0.64655662 -0.1958443  -0.65747631]\n",
      " [-0.4113474  -0.03250625 -1.66186346]]\n",
      "\n",
      "[[1.03635812 1.76465677 1.81994653]\n",
      " [1.68850999 2.27536445 1.67893112]\n",
      " [1.94013324 2.63271702 1.20898963]]\n"
     ]
    }
   ],
   "source": [
    "#log & exp\n",
    "a=np.random.random((3,3))\n",
    "print(a)\n",
    "print()\n",
    "print(np.log(a))\n",
    "print()\n",
    "print(np.exp(a))"
   ]
  },
  {
   "cell_type": "code",
   "execution_count": 82,
   "id": "4e25057f",
   "metadata": {},
   "outputs": [
    {
     "name": "stdout",
     "output_type": "stream",
     "text": [
      "[[0.08103991 0.22869992]\n",
      " [0.78935148 0.08891135]\n",
      " [0.12569319 0.12382842]\n",
      " [0.37391418 0.08682659]]\n",
      "\n",
      "[[ 8. 23.]\n",
      " [79.  9.]\n",
      " [13. 12.]\n",
      " [37.  9.]]\n",
      "\n",
      "[[0. 0.]\n",
      " [0. 0.]\n",
      " [0. 0.]\n",
      " [0. 0.]]\n",
      "\n",
      "[[1. 1.]\n",
      " [1. 1.]\n",
      " [1. 1.]\n",
      " [1. 1.]]\n"
     ]
    }
   ],
   "source": [
    "#round/floor/ceil\n",
    "a=np.random.random((4,2))\n",
    "print(a)\n",
    "print()\n",
    "print(np.round(a*100))\n",
    "print()\n",
    "print(np.floor(a))\n",
    "print()\n",
    "print(np.ceil(a))"
   ]
  },
  {
   "cell_type": "code",
   "execution_count": 85,
   "id": "b4bb2068",
   "metadata": {},
   "outputs": [
    {
     "name": "stdout",
     "output_type": "stream",
     "text": [
      "[[0 1 2]\n",
      " [3 4 5]\n",
      " [6 7 8]]\n",
      "\n",
      "[[[ 0  1  2]\n",
      "  [ 3  4  5]\n",
      "  [ 6  7  8]]\n",
      "\n",
      " [[ 9 10 11]\n",
      "  [12 13 14]\n",
      "  [15 16 17]]\n",
      "\n",
      " [[18 19 20]\n",
      "  [21 22 23]\n",
      "  [24 25 26]]]\n"
     ]
    }
   ],
   "source": [
    "a1=np.arange(9,dtype=int).reshape(3,3)\n",
    "a2=np.arange(27,dtype=int).reshape(3,3,3)\n",
    "print(a1)\n",
    "print()\n",
    "print(a2)"
   ]
  },
  {
   "cell_type": "code",
   "execution_count": 100,
   "id": "53278756",
   "metadata": {},
   "outputs": [
    {
     "name": "stdout",
     "output_type": "stream",
     "text": [
      "5\n",
      "\n",
      "[3 4 5]\n",
      "\n",
      "[[4 5]\n",
      " [7 8]]\n",
      "\n",
      "[5 8]\n",
      "\n",
      "[[3 5]\n",
      " [6 8]]\n",
      "\n",
      "[[0 1 2]\n",
      " [6 7 8]]\n",
      "\n",
      "[[0 2]\n",
      " [6 8]]\n"
     ]
    }
   ],
   "source": [
    "#indexing and slicing\n",
    "print(a1[1,2])\n",
    "print()\n",
    "print(a1[1,])\n",
    "print()\n",
    "print(a1[1:,1:])\n",
    "print()\n",
    "print(a1[1:,2])\n",
    "print()\n",
    "print(a1[1:,::2])\n",
    "print()\n",
    "print(a1[::2,0::])\n",
    "print()\n",
    "print(a1[0::2,0::2])"
   ]
  },
  {
   "cell_type": "code",
   "execution_count": 108,
   "id": "dacfb581",
   "metadata": {},
   "outputs": [
    {
     "name": "stdout",
     "output_type": "stream",
     "text": [
      "[[18 19 20]\n",
      " [21 22 23]\n",
      " [24 25 26]]\n",
      "\n",
      "[21 23]\n",
      "\n",
      "[[ 9 11]\n",
      " [15 17]]\n",
      "\n"
     ]
    }
   ],
   "source": [
    "print(a2[2,0::,0::])\n",
    "print()\n",
    "print(a2[2,1,0::2])\n",
    "print()\n",
    "print(a2[1,0::2,0::2])\n",
    "print()"
   ]
  },
  {
   "cell_type": "code",
   "execution_count": 111,
   "id": "1b08fdc4",
   "metadata": {},
   "outputs": [
    {
     "name": "stdout",
     "output_type": "stream",
     "text": [
      "[[[ 0  1  2]\n",
      "  [ 3  4  5]\n",
      "  [ 6  7  8]]\n",
      "\n",
      " [[ 9 10 11]\n",
      "  [12 13 14]\n",
      "  [15 16 17]]\n",
      "\n",
      " [[18 19 20]\n",
      "  [21 22 23]\n",
      "  [24 25 26]]]\n",
      "\n",
      "[[0 1 2]\n",
      " [3 4 5]\n",
      " [6 7 8]]\n",
      "[[ 9 10 11]\n",
      " [12 13 14]\n",
      " [15 16 17]]\n",
      "[[18 19 20]\n",
      " [21 22 23]\n",
      " [24 25 26]]\n"
     ]
    }
   ],
   "source": [
    "#iteration\n",
    "print(a2)\n",
    "print()\n",
    "for i in a2:\n",
    "    print(i)"
   ]
  },
  {
   "cell_type": "code",
   "execution_count": 113,
   "id": "36ef72c4",
   "metadata": {},
   "outputs": [
    {
     "name": "stdout",
     "output_type": "stream",
     "text": [
      "[[0 1]\n",
      " [2 3]\n",
      " [4 5]\n",
      " [6 7]\n",
      " [8 9]]\n",
      "\n",
      "[[0 2 4 6 8]\n",
      " [1 3 5 7 9]]\n",
      "\n",
      "[0 1 2 3 4 5 6 7 8 9]\n"
     ]
    }
   ],
   "source": [
    "#transpose/ravel\n",
    "a=np.arange(10,dtype=int).reshape(5,2)\n",
    "print(a)\n",
    "print()\n",
    "print(np.transpose(a))\n",
    "print()\n",
    "print(np.ravel(a))"
   ]
  },
  {
   "cell_type": "code",
   "execution_count": 116,
   "id": "9c38996e",
   "metadata": {},
   "outputs": [
    {
     "name": "stdout",
     "output_type": "stream",
     "text": [
      "[[0. 1. 2.]\n",
      " [3. 4. 5.]\n",
      " [6. 7. 8.]]\n",
      "\n",
      "[[ 9. 10. 11.]\n",
      " [12. 13. 14.]\n",
      " [15. 16. 17.]]\n",
      "\n",
      "[[ 0.  1.  2.  9. 10. 11.]\n",
      " [ 3.  4.  5. 12. 13. 14.]\n",
      " [ 6.  7.  8. 15. 16. 17.]]\n",
      "\n",
      "[[ 0.  1.  2.]\n",
      " [ 3.  4.  5.]\n",
      " [ 6.  7.  8.]\n",
      " [ 9. 10. 11.]\n",
      " [12. 13. 14.]\n",
      " [15. 16. 17.]]\n"
     ]
    }
   ],
   "source": [
    "#stacking\n",
    "a1=np.arange(9,dtype=float).reshape(3,3)\n",
    "a2=np.arange(9,18,dtype=float).reshape(3,3)\n",
    "print(a1)\n",
    "print()\n",
    "print(a2)\n",
    "print()\n",
    "print(np.hstack((a1,a2)))\n",
    "print()\n",
    "print(np.vstack((a1,a2)))"
   ]
  },
  {
   "cell_type": "code",
   "execution_count": 1,
   "id": "d7c43a3b",
   "metadata": {},
   "outputs": [
    {
     "name": "stdout",
     "output_type": "stream",
     "text": [
      "[[ 0.  1.  2.  3.]\n",
      " [ 4.  5.  6.  7.]\n",
      " [ 8.  9. 10. 11.]\n",
      " [12. 13. 14. 15.]]\n",
      "\n",
      "[array([[ 0.,  1.],\n",
      "       [ 4.,  5.],\n",
      "       [ 8.,  9.],\n",
      "       [12., 13.]]), array([[ 2.,  3.],\n",
      "       [ 6.,  7.],\n",
      "       [10., 11.],\n",
      "       [14., 15.]])]\n",
      "\n",
      "[array([[0., 1., 2., 3.],\n",
      "       [4., 5., 6., 7.]]), array([[ 8.,  9., 10., 11.],\n",
      "       [12., 13., 14., 15.]])]\n"
     ]
    }
   ],
   "source": [
    "#Splitting\n",
    "import numpy as np\n",
    "a1=np.arange(16,dtype=float).reshape(4,4)\n",
    "print(a1)\n",
    "print()\n",
    "print(np.hsplit(a1, 2))\n",
    "print()\n",
    "print(np.vsplit(a1, 2))"
   ]
  },
  {
   "cell_type": "code",
   "execution_count": 15,
   "id": "20bf2f1e",
   "metadata": {},
   "outputs": [
    {
     "name": "stdout",
     "output_type": "stream",
     "text": [
      "[[ 0  1  2]\n",
      " [ 3  4  5]\n",
      " [ 6  7  8]\n",
      " [ 9 10 11]]\n",
      "\n",
      "[[ 0  1  2]\n",
      " [ 3  4  5]\n",
      " [ 9 10 11]]\n",
      "\n",
      "[[ 0  1]\n",
      " [ 6  7]\n",
      " [ 9 10]]\n",
      "\n",
      "[[ 0  2]\n",
      " [ 3  5]\n",
      " [ 6  8]\n",
      " [ 9 11]]\n"
     ]
    }
   ],
   "source": [
    "#fancy indexing\n",
    "a=np.arange(12,dtype=int).reshape(4,3)\n",
    "print(a)\n",
    "print()\n",
    "print(a[[0,1,3]])\n",
    "print()\n",
    "print(a[[0,2,3],0:2])\n",
    "print()\n",
    "print(a[:,[0,2]])\n"
   ]
  },
  {
   "cell_type": "code",
   "execution_count": 16,
   "id": "01125152",
   "metadata": {},
   "outputs": [
    {
     "name": "stdout",
     "output_type": "stream",
     "text": [
      "[[33 88  9 21]\n",
      " [28 77 83 98]\n",
      " [74 71 43 52]\n",
      " [82 30  2 96]\n",
      " [31  4 13 26]\n",
      " [50 26 26 27]]\n"
     ]
    }
   ],
   "source": [
    "x=np.random.randint(1,100,24).reshape(6,4)\n",
    "print(x)"
   ]
  },
  {
   "cell_type": "code",
   "execution_count": 21,
   "id": "e77be3ea",
   "metadata": {},
   "outputs": [
    {
     "name": "stdout",
     "output_type": "stream",
     "text": [
      "[88 77 83 98 74 71 52 82 96]\n",
      "\n",
      "[88 28 98 74 52 82 30  2 96  4 26 50 26 26]\n",
      "\n",
      "[88 98 74 52 82 96]\n",
      "[33  9 21 77 83 71 43 31 13 27]\n"
     ]
    }
   ],
   "source": [
    "#boolean indexing\n",
    "print(x[x>50])\n",
    "print()\n",
    "print(x[x%2==0])\n",
    "print()\n",
    "print(x[(x>50) & (x%2==0)])\n",
    "print()\n",
    "print(x[~(x%2==0)])"
   ]
  },
  {
   "cell_type": "code",
   "execution_count": 2,
   "id": "a81690b9",
   "metadata": {},
   "outputs": [],
   "source": [
    "#broadcasting\n",
    "# 1.  make two array have the same dimension if dimension of two array different, then add 1 on the head\n",
    "# 2. increase the dimension to the same level imp(only if we can place 1 in dimension or 1 is present in dimension)"
   ]
  },
  {
   "cell_type": "code",
   "execution_count": 4,
   "id": "d5ad7deb",
   "metadata": {},
   "outputs": [
    {
     "name": "stdout",
     "output_type": "stream",
     "text": [
      "[[0 1]\n",
      " [2 3]]\n",
      "\n",
      "[0 1]\n",
      "\n",
      "[[0 2]\n",
      " [2 4]]\n"
     ]
    }
   ],
   "source": [
    "import numpy as np\n",
    "a1=np.arange(4).reshape(2,2)\n",
    "a2=np.arange(2).reshape(2)\n",
    "print(a1)\n",
    "print()\n",
    "print(a2)\n",
    "print()\n",
    "print(a1+a2)"
   ]
  },
  {
   "cell_type": "code",
   "execution_count": 5,
   "id": "d12855ca",
   "metadata": {},
   "outputs": [
    {
     "name": "stdout",
     "output_type": "stream",
     "text": [
      "[[0 1]\n",
      " [2 3]\n",
      " [4 5]\n",
      " [6 7]]\n",
      "\n",
      "[0 1 2 3]\n",
      "\n"
     ]
    },
    {
     "ename": "ValueError",
     "evalue": "operands could not be broadcast together with shapes (4,2) (4,) ",
     "output_type": "error",
     "traceback": [
      "\u001b[1;31m---------------------------------------------------------------------------\u001b[0m",
      "\u001b[1;31mValueError\u001b[0m                                Traceback (most recent call last)",
      "Cell \u001b[1;32mIn[5], line 7\u001b[0m\n\u001b[0;32m      5\u001b[0m \u001b[38;5;28mprint\u001b[39m(a2)\n\u001b[0;32m      6\u001b[0m \u001b[38;5;28mprint\u001b[39m()\n\u001b[1;32m----> 7\u001b[0m \u001b[38;5;28mprint\u001b[39m(a1\u001b[38;5;241m+\u001b[39ma2)\n",
      "\u001b[1;31mValueError\u001b[0m: operands could not be broadcast together with shapes (4,2) (4,) "
     ]
    }
   ],
   "source": [
    "a1=np.arange(8).reshape(4,2)\n",
    "a2=np.arange(4).reshape(4)#here it gets (1,4)=>(4,4) != (4,2)\n",
    "print(a1)\n",
    "print()\n",
    "print(a2)\n",
    "print()\n",
    "print(a1+a2)"
   ]
  },
  {
   "cell_type": "code",
   "execution_count": 6,
   "id": "0e925138",
   "metadata": {},
   "outputs": [
    {
     "name": "stdout",
     "output_type": "stream",
     "text": [
      "[[0 1]\n",
      " [2 3]\n",
      " [4 5]\n",
      " [6 7]]\n",
      "\n",
      "[0 1]\n",
      "\n",
      "[[0 2]\n",
      " [2 4]\n",
      " [4 6]\n",
      " [6 8]]\n"
     ]
    }
   ],
   "source": [
    "a1=np.arange(8).reshape(4,2)\n",
    "a2=np.arange(2).reshape(2)\n",
    "print(a1)\n",
    "print()\n",
    "print(a2)\n",
    "print()\n",
    "print(a1+a2)"
   ]
  },
  {
   "cell_type": "code",
   "execution_count": 7,
   "id": "69f1e95f",
   "metadata": {},
   "outputs": [
    {
     "name": "stdout",
     "output_type": "stream",
     "text": [
      "[[0 1]\n",
      " [2 3]\n",
      " [4 5]\n",
      " [6 7]]\n",
      "\n",
      "[[0 1]\n",
      " [2 3]]\n",
      "\n"
     ]
    },
    {
     "ename": "ValueError",
     "evalue": "operands could not be broadcast together with shapes (4,2) (2,2) ",
     "output_type": "error",
     "traceback": [
      "\u001b[1;31m---------------------------------------------------------------------------\u001b[0m",
      "\u001b[1;31mValueError\u001b[0m                                Traceback (most recent call last)",
      "Cell \u001b[1;32mIn[7], line 7\u001b[0m\n\u001b[0;32m      5\u001b[0m \u001b[38;5;28mprint\u001b[39m(a2)\n\u001b[0;32m      6\u001b[0m \u001b[38;5;28mprint\u001b[39m()\n\u001b[1;32m----> 7\u001b[0m \u001b[38;5;28mprint\u001b[39m(a1\u001b[38;5;241m+\u001b[39ma2)\n",
      "\u001b[1;31mValueError\u001b[0m: operands could not be broadcast together with shapes (4,2) (2,2) "
     ]
    }
   ],
   "source": [
    "a1=np.arange(8).reshape(4,2)\n",
    "a2=np.arange(4).reshape(2,2)#no 1 is present so dimension cannot be matched\n",
    "print(a1)\n",
    "print()\n",
    "print(a2)\n",
    "print()\n",
    "print(a1+a2)"
   ]
  },
  {
   "cell_type": "code",
   "execution_count": 7,
   "id": "5f573fa6",
   "metadata": {},
   "outputs": [
    {
     "name": "stdout",
     "output_type": "stream",
     "text": [
      "[[ 2 15 14 10  8]\n",
      " [14  7  9  5 10]\n",
      " [ 6 13 15 13  4]\n",
      " [18 13  5 17 15]]\n"
     ]
    },
    {
     "data": {
      "text/plain": [
       "array([[0.88079708, 0.99999969, 0.99999917, 0.9999546 , 0.99966465],\n",
       "       [0.99999917, 0.99908895, 0.99987661, 0.99330715, 0.9999546 ],\n",
       "       [0.99752738, 0.99999774, 0.99999969, 0.99999774, 0.98201379],\n",
       "       [0.99999998, 0.99999774, 0.99330715, 0.99999996, 0.99999969]])"
      ]
     },
     "execution_count": 7,
     "metadata": {},
     "output_type": "execute_result"
    }
   ],
   "source": [
    "#sigmoid function\n",
    "import numpy as np\n",
    "a= np.random.randint(0,20,20).reshape(4,5)\n",
    "print(a)\n",
    "\n",
    "def sigmoid(array):\n",
    "    return 1/(1+ np.exp((-array)))\n",
    "\n",
    "sigmoid(a)"
   ]
  },
  {
   "cell_type": "code",
   "execution_count": 9,
   "id": "b2f89145",
   "metadata": {},
   "outputs": [
    {
     "name": "stdout",
     "output_type": "stream",
     "text": [
      "[17 11 13 10  7  9  3  2 13  0]\n",
      "\n",
      "[14 13 17 19 13 12  6  2  5 10]\n",
      "\n"
     ]
    },
    {
     "data": {
      "text/plain": [
       "32.8"
      ]
     },
     "execution_count": 9,
     "metadata": {},
     "output_type": "execute_result"
    }
   ],
   "source": [
    "#mean square \n",
    "actual=np.random.randint(0,20,10)\n",
    "predicted=np.random.randint(0,20,10)\n",
    "print(actual)\n",
    "print()\n",
    "print(predicted)\n",
    "print()\n",
    "\n",
    "def MSE(actual,predicted):\n",
    "    return np.mean((actual-predicted)**2)\n",
    "MSE(actual,predicted)"
   ]
  },
  {
   "cell_type": "code",
   "execution_count": 13,
   "id": "cf4e719b",
   "metadata": {},
   "outputs": [
    {
     "name": "stdout",
     "output_type": "stream",
     "text": [
      "[10. 20. 30. 40. nan 60. 70. 80. 90.]\n",
      "\n",
      "[False False False False  True False False False False]\n",
      "\n",
      "[nan]\n",
      "\n",
      "[10. 20. 30. 40. 60. 70. 80. 90.]\n"
     ]
    }
   ],
   "source": [
    "#working with missing value\n",
    "a=np.array([10,20,30,40,np.nan,60,70,80,90])\n",
    "print(a)\n",
    "print()\n",
    "#np.isnan()\n",
    "print(np.isnan(a))\n",
    "print()\n",
    "print(a[np.isnan(a)])\n",
    "print()\n",
    "print(a[~np.isnan(a)])"
   ]
  },
  {
   "cell_type": "code",
   "execution_count": 18,
   "id": "163e77fe",
   "metadata": {},
   "outputs": [
    {
     "name": "stdout",
     "output_type": "stream",
     "text": [
      "[ 8 21 18  8  4  6  2  8 20 11]\n",
      "\n",
      "[ 2  4  6  8  8  8 11 18 20 21]\n",
      "\n",
      "[21 20 18 11  8  8  8  6  4  2]\n",
      "\n",
      "[[ 4  4 13 14  5]\n",
      " [ 7 16 18  5 12]\n",
      " [14  2  1  9  5]\n",
      " [12  6 19  2  1]]\n",
      "\n",
      "[[ 4  4  5 13 14]\n",
      " [ 5  7 12 16 18]\n",
      " [ 1  2  5  9 14]\n",
      " [ 1  2  6 12 19]]\n",
      "\n",
      "[[ 4  2  1  2  1]\n",
      " [ 7  4 13  5  5]\n",
      " [12  6 18  9  5]\n",
      " [14 16 19 14 12]]\n",
      "\n",
      "[[ 4  4  5 13 14]\n",
      " [ 5  7 12 16 18]\n",
      " [ 1  2  5  9 14]\n",
      " [ 1  2  6 12 19]]\n"
     ]
    }
   ],
   "source": [
    "#sort()\n",
    "a=np.random.randint(0,25,10)\n",
    "print(a)\n",
    "print()\n",
    "print(np.sort(a))\n",
    "print()\n",
    "print(np.sort(a)[::-1])\n",
    "\n",
    "b=np.random.randint(1,20,20).reshape(4,5)\n",
    "print()\n",
    "print(b)\n",
    "print()\n",
    "print(np.sort(b))\n",
    "print()\n",
    "print(np.sort(b,axis=0))#of column\n",
    "print()\n",
    "print(np.sort(b,axis=1))#of row"
   ]
  },
  {
   "cell_type": "code",
   "execution_count": 42,
   "id": "1317da98",
   "metadata": {},
   "outputs": [
    {
     "name": "stdout",
     "output_type": "stream",
     "text": [
      "[16  4 18 12  1  2  6  2 17  3]\n",
      "\n",
      "[16  4 18 12  1  2  6  2 17  3 50]\n",
      "\n",
      "[[2 2 7]\n",
      " [3 5 7]\n",
      " [7 4 0]]\n",
      "\n",
      "[[2 2 7]\n",
      " [3 5 7]\n",
      " [7 4 0]\n",
      " [1 2 3]]\n",
      "\n",
      "[[2 2 7 1]\n",
      " [3 5 7 2]\n",
      " [7 4 0 3]]\n"
     ]
    }
   ],
   "source": [
    "#np.append()\n",
    "a=np.random.randint(0,20,10)\n",
    "print(a)\n",
    "print()\n",
    "print(np.append(a,50))\n",
    "b=np.random.randint(0,10,9).reshape(3,3)\n",
    "print()\n",
    "print(b)\n",
    "print()\n",
    "print(np.append(b,np.array([[1,2,3]]),axis=0))#in row\n",
    "print()\n",
    "print(np.append(b,np.array([[1],[2],[3]]),axis=1))#in column"
   ]
  },
  {
   "cell_type": "code",
   "execution_count": 44,
   "id": "b6528e0d",
   "metadata": {},
   "outputs": [
    {
     "name": "stdout",
     "output_type": "stream",
     "text": [
      "[[ 9  5  8  2]\n",
      " [ 8  0  8  3]\n",
      " [18  7  9  8]\n",
      " [ 1  7 12 14]\n",
      " [16  4 16  5]\n",
      " [ 7  2 15  1]\n",
      " [15 10 15 17]\n",
      " [18  9 14  5]]\n",
      "\n",
      "[[ 9  5  8  2 16  4 16  5]\n",
      " [ 8  0  8  3  7  2 15  1]\n",
      " [18  7  9  8 15 10 15 17]\n",
      " [ 1  7 12 14 18  9 14  5]]\n"
     ]
    }
   ],
   "source": [
    "a=np.random.randint(0,20,16).reshape(4,4)\n",
    "b=np.random.randint(0,20,16).reshape(4,4)\n",
    "\n",
    "print(np.concatenate((a,b),axis=0))#column\n",
    "print()\n",
    "print(np.concatenate((a,b),axis=1))#row"
   ]
  },
  {
   "cell_type": "code",
   "execution_count": 45,
   "id": "db796b1e",
   "metadata": {},
   "outputs": [
    {
     "name": "stdout",
     "output_type": "stream",
     "text": [
      "[1 2 3 4 5 6]\n"
     ]
    }
   ],
   "source": [
    "#np.unique()\n",
    "a=np.array([1,1,1,1,2,2,2,2,3,3,3,5,5,5,4,4,6])\n",
    "print(np.unique(a))"
   ]
  },
  {
   "cell_type": "code",
   "execution_count": 47,
   "id": "2336e59c",
   "metadata": {},
   "outputs": [
    {
     "name": "stdout",
     "output_type": "stream",
     "text": [
      "[8 9 9 0 1 4 9 1 8 5]\n",
      "[[8 9 9 0 1 4 9 1 8 5]]\n",
      "[[8]\n",
      " [9]\n",
      " [9]\n",
      " [0]\n",
      " [1]\n",
      " [4]\n",
      " [9]\n",
      " [1]\n",
      " [8]\n",
      " [5]]\n"
     ]
    }
   ],
   "source": [
    "#expand dimensions\n",
    "a=np.random.randint(0,10,10)\n",
    "print(a)\n",
    "print(np.expand_dims(a,axis=0))\n",
    "print(np.expand_dims(a,axis=1))"
   ]
  },
  {
   "cell_type": "code",
   "execution_count": 48,
   "id": "cfab0a31",
   "metadata": {},
   "outputs": [
    {
     "name": "stdout",
     "output_type": "stream",
     "text": [
      "[15 17 29 27  5 26 21 22 29 16 23 25 23 13  3]\n",
      "\n",
      "(array([ 2,  3,  5,  6,  7,  8, 10, 11, 12], dtype=int64),)\n",
      "\n",
      "[1 1 1 1 1 0 1 0 1 0 1 1 1 1 1]\n"
     ]
    }
   ],
   "source": [
    "#np.where()\n",
    "a=np.random.randint(0,30,15)\n",
    "print(a)\n",
    "print()\n",
    "print(np.where(a>20))\n",
    "print()\n",
    "print(np.where(a%2==0,0,1))"
   ]
  },
  {
   "cell_type": "code",
   "execution_count": 49,
   "id": "56093854",
   "metadata": {},
   "outputs": [
    {
     "name": "stdout",
     "output_type": "stream",
     "text": [
      "[[ 9 10  6]\n",
      " [16 18  0]\n",
      " [19  9  7]]\n",
      "\n",
      "[2 1 2]\n",
      "\n",
      "[2 2 2]\n"
     ]
    }
   ],
   "source": [
    "#max index and min index in array\n",
    "x=np.random.randint(0,20,9).reshape(3,3)\n",
    "print(x)\n",
    "print()\n",
    "print(np.argmax(x,axis=0))\n",
    "print()\n",
    "print(np.argmin(x,axis=1))"
   ]
  },
  {
   "cell_type": "code",
   "execution_count": 51,
   "id": "1ad3481e",
   "metadata": {},
   "outputs": [
    {
     "name": "stdout",
     "output_type": "stream",
     "text": [
      "[[ 8 12  0]\n",
      " [13 15  9]\n",
      " [10 10 18]]\n",
      "\n",
      "[[ 8 12  0]\n",
      " [21 27  9]\n",
      " [31 37 27]]\n",
      "\n",
      "[[   8   96    0]\n",
      " [  13  195 1755]\n",
      " [  10  100 1800]]\n"
     ]
    }
   ],
   "source": [
    "#cumulative sum and product\n",
    "x=np.random.randint(0,20,9).reshape(3,3)\n",
    "print(x)\n",
    "print()\n",
    "print(np.cumsum(x,axis=0))\n",
    "print()\n",
    "print(np.cumprod(x,axis=1))"
   ]
  },
  {
   "cell_type": "code",
   "execution_count": 52,
   "id": "3bb0defb",
   "metadata": {},
   "outputs": [
    {
     "name": "stdout",
     "output_type": "stream",
     "text": [
      "[[1.         0.03317117]\n",
      " [0.03317117 1.        ]]\n"
     ]
    }
   ],
   "source": [
    "#corelation coefficient\n",
    "x=np.random.randint(0,20,10)\n",
    "y=np.random.randint(0,20,10)\n",
    "print(np.corrcoef(x,y))"
   ]
  },
  {
   "cell_type": "code",
   "execution_count": 56,
   "id": "25186cf4",
   "metadata": {},
   "outputs": [
    {
     "name": "stdout",
     "output_type": "stream",
     "text": [
      "[12  7 13  0  1  4 15 19  9  9]\n",
      "[ 7 14 15  7 11 13  6 17  2 14]\n",
      "[False  True  True False False False  True False False False]\n"
     ]
    }
   ],
   "source": [
    "# np.isin()\n",
    "arr=np.random.randint(0,20,10)\n",
    "item=np.random.randint(0,20,10)\n",
    "print(arr)\n",
    "print(item)\n",
    "print(np.isin(arr,item))"
   ]
  },
  {
   "cell_type": "code",
   "execution_count": 58,
   "id": "95e014b9",
   "metadata": {},
   "outputs": [
    {
     "name": "stdout",
     "output_type": "stream",
     "text": [
      "[[ 6 10 10]\n",
      " [ 0 10 19]\n",
      " [ 0  2  3]]\n",
      "\n",
      "[[ 0  2  3]\n",
      " [ 0 10 19]\n",
      " [ 6 10 10]]\n",
      "\n",
      "[[10 10  6]\n",
      " [19 10  0]\n",
      " [ 3  2  0]]\n"
     ]
    }
   ],
   "source": [
    "#np.flip()\n",
    "x=np.random.randint(0,20,9).reshape(3,3)\n",
    "print(x)\n",
    "print()\n",
    "print(np.flip(x,axis=0))\n",
    "print()\n",
    "print(np.flip(x,axis=1))"
   ]
  },
  {
   "cell_type": "code",
   "execution_count": 63,
   "id": "90638abd",
   "metadata": {},
   "outputs": [
    {
     "name": "stdout",
     "output_type": "stream",
     "text": [
      "[ 5  5 13 15 10  8  6 14 13 18]\n",
      "[[ 5 69 69 15 10  8  6 14 13 18]]\n"
     ]
    }
   ],
   "source": [
    "#np.put()\n",
    "x=np.random.randint(0,20,10)\n",
    "print(x)\n",
    "print(x[np.put(x,[1,2],[69,69])])"
   ]
  },
  {
   "cell_type": "code",
   "execution_count": 64,
   "id": "6db1175d",
   "metadata": {},
   "outputs": [
    {
     "name": "stdout",
     "output_type": "stream",
     "text": [
      "[ 6  3 14 16 16  7 12  9  4  5]\n",
      "[ 3 16  7 12  9  4  5]\n"
     ]
    }
   ],
   "source": [
    "#np.delete()\n",
    "x=np.random.randint(0,20,10)\n",
    "print(x)\n",
    "print(np.delete(x,[0,2,4]))"
   ]
  },
  {
   "cell_type": "code",
   "execution_count": 65,
   "id": "cecead95",
   "metadata": {},
   "outputs": [
    {
     "name": "stdout",
     "output_type": "stream",
     "text": [
      "[14 19 14 11 11 19 16 14  1 13]\n",
      "\n",
      "[16 13 17 18 18 16 11 14 19  9]\n"
     ]
    }
   ],
   "source": [
    "x=np.random.randint(0,20,10)\n",
    "y=np.random.randint(0,20,10)\n",
    "print(x)\n",
    "print()\n",
    "print(y)"
   ]
  },
  {
   "cell_type": "code",
   "execution_count": 66,
   "id": "52a149eb",
   "metadata": {},
   "outputs": [
    {
     "name": "stdout",
     "output_type": "stream",
     "text": [
      "[ 1  9 11 13 14 16 17 18 19]\n"
     ]
    }
   ],
   "source": [
    "#np.union1d()\n",
    "print(np.union1d(x,y))"
   ]
  },
  {
   "cell_type": "code",
   "execution_count": 67,
   "id": "99b7b95f",
   "metadata": {},
   "outputs": [
    {
     "name": "stdout",
     "output_type": "stream",
     "text": [
      "[11 13 14 16 19]\n"
     ]
    }
   ],
   "source": [
    "#np.intersection1d()\n",
    "print(np.intersect1d(x,y))"
   ]
  },
  {
   "cell_type": "code",
   "execution_count": 68,
   "id": "102a140c",
   "metadata": {},
   "outputs": [
    {
     "name": "stdout",
     "output_type": "stream",
     "text": [
      "[1]\n",
      "[ 9 17 18]\n"
     ]
    }
   ],
   "source": [
    "#np.setdiff1d\n",
    "print(np.setdiff1d(x,y))\n",
    "print(np.setdiff1d(y,x))"
   ]
  },
  {
   "cell_type": "code",
   "execution_count": 69,
   "id": "57f96ba8",
   "metadata": {},
   "outputs": [
    {
     "name": "stdout",
     "output_type": "stream",
     "text": [
      "[ 1  9 17 18]\n"
     ]
    }
   ],
   "source": [
    "#np.setxor1d() only give element unique in two arrays\n",
    "print(np.setxor1d(x,y))"
   ]
  },
  {
   "cell_type": "code",
   "execution_count": 70,
   "id": "ec156ac1",
   "metadata": {},
   "outputs": [
    {
     "name": "stdout",
     "output_type": "stream",
     "text": [
      "[ True False  True False False False False  True False False]\n",
      "[False False False False False False False  True False False]\n"
     ]
    }
   ],
   "source": [
    "#np.in1d()\n",
    "print(np.in1d(x,14))\n",
    "print(np.in1d(y,14))"
   ]
  }
 ],
 "metadata": {
  "kernelspec": {
   "display_name": "base",
   "language": "python",
   "name": "python3"
  },
  "language_info": {
   "codemirror_mode": {
    "name": "ipython",
    "version": 3
   },
   "file_extension": ".py",
   "mimetype": "text/x-python",
   "name": "python",
   "nbconvert_exporter": "python",
   "pygments_lexer": "ipython3",
   "version": "3.12.4"
  }
 },
 "nbformat": 4,
 "nbformat_minor": 5
}
